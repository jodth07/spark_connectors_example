{
 "cells": [
  {
   "cell_type": "code",
   "execution_count": 1,
   "metadata": {},
   "outputs": [],
   "source": [
    "import requests\n",
    "import os\n",
    "from io import StringIO\n",
    "import json"
   ]
  },
  {
   "cell_type": "code",
   "execution_count": 12,
   "metadata": {},
   "outputs": [],
   "source": [
    "MY_TOKEN=\"XXXXXXXXXXXXXXXXXXXXXXXXX\"\n",
    "BASE_SITE = \"https://trefle.io/api/\""
   ]
  },
  {
   "cell_type": "code",
   "execution_count": 15,
   "metadata": {},
   "outputs": [],
   "source": [
    "def get_token(token, base_site=BASE_SITE) -> str:\n",
    "    \"\"\"\n",
    "    using personal provided token to get access token\n",
    "    :return: string token to be used in queries\n",
    "    \"\"\"\n",
    "    response = requests.post(f\"{base_site}auth/claim?token={token}&origin=YOUR-WEBSITE-URL\")\n",
    "    return response.json()[\"token\"]"
   ]
  },
  {
   "cell_type": "code",
   "execution_count": 16,
   "metadata": {},
   "outputs": [],
   "source": [
    "def get_data(end_point: str, session_token: str, base_site=BASE_SITE) -> list:\n",
    "    \"\"\"\n",
    "    using the different endpoints, create links and pulls data from api\n",
    "    :param end_point: hierarchical trees of type strings\n",
    "    :return: json object\n",
    "    \"\"\"\n",
    "    try:\n",
    "        return requests.get(f\"{base_site}{end_point}/?token={session_token}\").json()\n",
    "    except:\n",
    "        print(\"the request did not succeed\")\n",
    "        return exit(1)"
   ]
  },
  {
   "cell_type": "code",
   "execution_count": 17,
   "metadata": {},
   "outputs": [],
   "source": [
    "def get_str_data(data_li: list) -> StringIO:\n",
    "    \"\"\"\n",
    "    takes in the json data in list, to be stored in file.\n",
    "    :param data_li:\n",
    "    :return:\n",
    "    \"\"\"\n",
    "    data_io = StringIO()\n",
    "    for record in data_li:\n",
    "        data_io.write(f\"{record},\\n\")\n",
    "    return data_io"
   ]
  },
  {
   "cell_type": "code",
   "execution_count": 26,
   "metadata": {},
   "outputs": [],
   "source": [
    "def process_data(endpoint_name:str, session_token:str):\n",
    "    \"\"\"\n",
    "\n",
    "    :param endpoint_name:\n",
    "    :return:\n",
    "    \"\"\"\n",
    "    data: list = get_data(endpoint_name, session_token)\n",
    "#     data_io: StringIO = get_str_data(data)\n",
    "    with open(f\"data/{endpoint_name}.json\", \"w\") as writer:\n",
    "        writer.write(json.dumps(data))\n",
    "    print(f\"Data written for {endpoint_name}\")"
   ]
  },
  {
   "cell_type": "code",
   "execution_count": 20,
   "metadata": {},
   "outputs": [],
   "source": [
    "ss_token = get_token(MY_TOKEN)"
   ]
  },
  {
   "cell_type": "code",
   "execution_count": 21,
   "metadata": {},
   "outputs": [],
   "source": [
    "data = get_data(\"kingdoms\", ss_token)"
   ]
  },
  {
   "cell_type": "code",
   "execution_count": 40,
   "metadata": {},
   "outputs": [
    {
     "data": {
      "text/plain": [
       "[{'subkingdoms': [{'slug': 'tracheobionta',\n",
       "    'name': 'Tracheobionta',\n",
       "    'link': 'http://trefle.io/api/subkingdoms/1',\n",
       "    'id': 1}],\n",
       "  'slug': None,\n",
       "  'name': 'Plantae',\n",
       "  'id': 1}]"
      ]
     },
     "execution_count": 40,
     "metadata": {},
     "output_type": "execute_result"
    }
   ],
   "source": [
    "data"
   ]
  },
  {
   "cell_type": "code",
   "execution_count": 27,
   "metadata": {},
   "outputs": [
    {
     "name": "stdout",
     "output_type": "stream",
     "text": [
      "Data written for kingdoms\n",
      "Data written for subkingdoms\n",
      "Data written for divisions\n",
      "Data written for families\n",
      "Data written for genuses\n",
      "Data written for plants\n"
     ]
    }
   ],
   "source": [
    "endpoints = [\"kingdoms\", \"subkingdoms\", \"divisions\", \"families\", \"genuses\", \"plants\"]\n",
    "for endpoint in endpoints:\n",
    "    process_data(endpoint, ss_token)"
   ]
  },
  {
   "cell_type": "code",
   "execution_count": 29,
   "metadata": {},
   "outputs": [
    {
     "name": "stdout",
     "output_type": "stream",
     "text": [
      "bible-kjv.txt     families.json     locations.csv     products.csv\r\n",
      "customers.csv     genuses.json      orders.csv        \u001b[1m\u001b[32mshakespeare.txt\u001b[m\u001b[m*\r\n",
      "divisions.json    kingdoms.json     plants.json       subkingdoms.json\r\n"
     ]
    }
   ],
   "source": [
    "ls data/"
   ]
  }
 ],
 "metadata": {
  "kernelspec": {
   "display_name": "Python 3",
   "language": "python",
   "name": "python3"
  },
  "language_info": {
   "codemirror_mode": {
    "name": "ipython",
    "version": 3
   },
   "file_extension": ".py",
   "mimetype": "text/x-python",
   "name": "python",
   "nbconvert_exporter": "python",
   "pygments_lexer": "ipython3",
   "version": "3.7.3"
  }
 },
 "nbformat": 4,
 "nbformat_minor": 2
}
