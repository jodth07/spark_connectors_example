{
 "cells": [
  {
   "cell_type": "code",
   "execution_count": 109,
   "metadata": {},
   "outputs": [],
   "source": [
    "from pyspark.sql import SparkSession\n",
    "from pyspark.sql import DataFrame\n",
    "from pyspark.sql.functions import udf, col\n",
    "from pyspark.sql.types import StringType\n",
    "import urllib\n",
    "import os\n",
    "import json"
   ]
  },
  {
   "cell_type": "code",
   "execution_count": 1,
   "metadata": {},
   "outputs": [
    {
     "data": {
      "text/plain": [
       "'/Users/yashiro/Desktop/spark_examples'"
      ]
     },
     "execution_count": 1,
     "metadata": {},
     "output_type": "execute_result"
    }
   ],
   "source": [
    "os.chdir(\"..\")\n",
    "os.chdir(\"..\")\n",
    "BASE_DIR = os.getcwd()\n",
    "BASE_DIR"
   ]
  },
  {
   "cell_type": "code",
   "execution_count": 2,
   "metadata": {},
   "outputs": [],
   "source": [
    "input_dir = f\"file://{BASE_DIR}/00_input/data/\"\n",
    "output_dir = f\"file://{BASE_DIR}/00_output/data/\""
   ]
  },
  {
   "cell_type": "code",
   "execution_count": 5,
   "metadata": {},
   "outputs": [
    {
     "name": "stdout",
     "output_type": "stream",
     "text": [
      "root\n",
      " |-- id: long (nullable = true)\n",
      " |-- link: string (nullable = true)\n",
      " |-- name: string (nullable = true)\n",
      " |-- slug: string (nullable = true)\n",
      "\n"
     ]
    }
   ],
   "source": [
    "json_data : DataFrame = spark.read.json(input_dir + \"subkingdoms.json\")\n",
    "json_data.printSchema()\n",
    "json_data.coalesce(1).write.json(output_dir + \"subkingdoms.json\")"
   ]
  },
  {
   "cell_type": "code",
   "execution_count": 146,
   "metadata": {},
   "outputs": [],
   "source": [
    "js_data : DataFrame = spark.read.parquet(output_dir + \"twitter_txt/*\")"
   ]
  },
  {
   "cell_type": "code",
   "execution_count": 147,
   "metadata": {},
   "outputs": [
    {
     "name": "stdout",
     "output_type": "stream",
     "text": [
      "root\n",
      " |-- value: string (nullable = true)\n",
      "\n"
     ]
    },
    {
     "data": {
      "text/plain": [
       "9"
      ]
     },
     "execution_count": 147,
     "metadata": {},
     "output_type": "execute_result"
    }
   ],
   "source": [
    "js_data.printSchema()\n",
    "js_data.count()"
   ]
  },
  {
   "cell_type": "code",
   "execution_count": 166,
   "metadata": {},
   "outputs": [],
   "source": [
    "js_data.repartition(1).write.mode(\"overwrite\").text(output_dir + \"twitter_js\")"
   ]
  },
  {
   "cell_type": "code",
   "execution_count": 165,
   "metadata": {},
   "outputs": [
    {
     "name": "stdout",
     "output_type": "stream",
     "text": [
      "+--------------------+\n",
      "|               value|\n",
      "+--------------------+\n",
      "|{\"created_at\":\"Mo...|\n",
      "|{\"created_at\":\"Mo...|\n",
      "|{\"created_at\":\"Mo...|\n",
      "|{\"created_at\":\"Mo...|\n",
      "|{\"created_at\":\"Mo...|\n",
      "|{\"created_at\":\"Mo...|\n",
      "|{\"created_at\":\"Mo...|\n",
      "|{\"created_at\":\"Mo...|\n",
      "|{\"created_at\":\"Mo...|\n",
      "+--------------------+\n",
      "\n"
     ]
    }
   ],
   "source": [
    "js_data.select(\"value\").show()"
   ]
  },
  {
   "cell_type": "code",
   "execution_count": 170,
   "metadata": {},
   "outputs": [],
   "source": [
    "new_df = spark.read.json(input_dir + \"tweets.json\")"
   ]
  },
  {
   "cell_type": "code",
   "execution_count": 216,
   "metadata": {},
   "outputs": [
    {
     "name": "stdout",
     "output_type": "stream",
     "text": [
      "root\n",
      " |-- created_at: string (nullable = true)\n",
      " |-- id: long (nullable = true)\n",
      " |-- lang: string (nullable = true)\n",
      " |-- source: string (nullable = true)\n",
      " |-- text: string (nullable = true)\n",
      " |-- name: string (nullable = true)\n",
      " |-- screen_name: string (nullable = true)\n",
      "\n"
     ]
    }
   ],
   "source": [
    "user_info = new_df.select(\"created_at\", \"id\", \"lang\", \"source\", \"text\", \"user.name\", \"user.screen_name\")\n",
    "user_info.printSchema()"
   ]
  },
  {
   "cell_type": "code",
   "execution_count": 217,
   "metadata": {},
   "outputs": [
    {
     "name": "stdout",
     "output_type": "stream",
     "text": [
      "+------------------------------+-------------------+----+------------------------------------------------------------------------------------+--------------------------------------------------------------------------------------------------------------------------------------------+----------------------+---------------+\n",
      "|created_at                    |id                 |lang|source                                                                              |text                                                                                                                                        |name                  |screen_name    |\n",
      "+------------------------------+-------------------+----+------------------------------------------------------------------------------------+--------------------------------------------------------------------------------------------------------------------------------------------+----------------------+---------------+\n",
      "|Mon May 25 01:16:08 +0000 2020|1264726914989584384|en  |<a href=\"http://twitter.com/download/iphone\" rel=\"nofollow\">Twitter for iPhone</a>  |@axios So Chinese virus is out                                                                                                              |Kinakdoggle           |kinakdoggle    |\n",
      "|Mon May 25 01:16:08 +0000 2020|1264726915027365888|en  |<a href=\"http://twitter.com/download/android\" rel=\"nofollow\">Twitter for Android</a>|@Advpunjabimunda @ANI What's the price of Naan and roti today? Already beggar was trying to fix the price even befo… https://t.co/CHwwbd1mci|Rakeshrajkumaran      |Rakeshrajkumara|\n",
      "|Mon May 25 01:16:08 +0000 2020|1264726915237269504|pt  |<a href=\"http://twitter.com/download/iphone\" rel=\"nofollow\">Twitter for iPhone</a>  |RT @epikhigz: virus filho da puta presidente filho da puta brasil filho da puta vida filha da puta ansiedade filha da puta escola filha da… |‏ً                    |jaeminpearI    |\n",
      "|Mon May 25 01:16:08 +0000 2020|1264726915321155585|en  |<a href=\"http://twitter.com/download/android\" rel=\"nofollow\">Twitter for Android</a>|RT @KamVTV: If the masks work, then why are we social distancing?\n",
      "\n",
      "If distancing works, then why are we wearing masks?\n",
      "\n",
      "If masks and social…|Tommy D               |tommyd5002     |\n",
      "|Mon May 25 01:16:09 +0000 2020|1264726917854478336|en  |<a href=\"https://mobile.twitter.com\" rel=\"nofollow\">Twitter Web App</a>             |RT @mollycrabapple: Last week freedom rider Sally Jane Rowley died alone in an old age home of Corona. In 1961, she was sentenced to 6 mont…|Joyce Glennon - FL GAL|jglennon1      |\n",
      "|Mon May 25 01:16:09 +0000 2020|1264726917997002758|pt  |<a href=\"http://twitter.com/download/iphone\" rel=\"nofollow\">Twitter for iPhone</a>  |@marabapagov Considerando o boletim da @marabapagov ainda essa semana o corona vírus desaparece de Marabá. ☺️                               |quico                 |quicopereira   |\n",
      "|Mon May 25 01:16:09 +0000 2020|1264726916449386497|en  |<a href=\"http://twitter.com/download/android\" rel=\"nofollow\">Twitter for Android</a>|RT @TravisAllen02: Trump was given a massive opportunity to unite the country and the world behind a common enemy, the Coronavirus.\n",
      "\n",
      "Instea…|Ronna Bennett         |itbmeronnab    |\n",
      "|Mon May 25 01:16:09 +0000 2020|1264726916650713090|es  |<a href=\"http://twitter.com/download/iphone\" rel=\"nofollow\">Twitter for iPhone</a>  |RT @MaguMonero: Buen domingo a pesar de...Último recurso de AMLO es machacar sus verdades mentirosas; pandemia va en descenso, estamos sali…|Federico Martinez     |fico_mr        |\n",
      "|Mon May 25 01:16:10 +0000 2020|1264726921167814656|en  |<a href=\"http://twitter.com/download/iphone\" rel=\"nofollow\">Twitter for iPhone</a>  |RT @teenafromnyc: “After corona” is the new inshallah                                                                                       |Nadia Z               |nadia_zz       |\n",
      "+------------------------------+-------------------+----+------------------------------------------------------------------------------------+--------------------------------------------------------------------------------------------------------------------------------------------+----------------------+---------------+\n",
      "\n"
     ]
    }
   ],
   "source": [
    "user_info.show(truncate=False)"
   ]
  },
  {
   "cell_type": "code",
   "execution_count": null,
   "metadata": {},
   "outputs": [],
   "source": []
  }
 ],
 "metadata": {
  "kernelspec": {
   "display_name": "Python 3",
   "language": "python",
   "name": "python3"
  },
  "language_info": {
   "codemirror_mode": {
    "name": "ipython",
    "version": 3
   },
   "file_extension": ".py",
   "mimetype": "text/x-python",
   "name": "python",
   "nbconvert_exporter": "python",
   "pygments_lexer": "ipython3",
   "version": "3.7.4"
  },
  "pycharm": {
   "stem_cell": {
    "cell_type": "raw",
    "metadata": {
     "collapsed": false
    },
    "source": []
   }
  }
 },
 "nbformat": 4,
 "nbformat_minor": 2
}
