{
 "cells": [
  {
   "cell_type": "code",
   "execution_count": null,
   "metadata": {},
   "outputs": [],
   "source": [
    "# !pip install pyspark"
   ]
  },
  {
   "cell_type": "code",
   "execution_count": 9,
   "metadata": {},
   "outputs": [],
   "source": [
    "import os\n",
    "import string\n",
    "from nltk.corpus import stopwords\n",
    "import pandas as pd\n",
    "# nltk.download('stopwords')\n",
    "# os.getcwd()"
   ]
  },
  {
   "cell_type": "code",
   "execution_count": 10,
   "metadata": {},
   "outputs": [],
   "source": [
    "import pyspark\n",
    "from pyspark.sql import SparkSession\n",
    "from pyspark.sql.functions import desc\n",
    "import os"
   ]
  },
  {
   "cell_type": "code",
   "execution_count": 4,
   "metadata": {},
   "outputs": [],
   "source": [
    "os.chdir(\"../..\")\n",
    "base_dir = f\"{os.getcwd()}/00_input/data\"\n",
    "bible_path = f\"{base_dir}/bible-kjv.txt\"\n",
    "shakes_path = f\"{base_dir}/shakespeare.txt\""
   ]
  },
  {
   "cell_type": "code",
   "execution_count": 62,
   "metadata": {},
   "outputs": [],
   "source": [
    "spark = SparkSession.builder\\\n",
    "    .master(\"local\") \\\n",
    "    .appName(\"Word Count\") \\\n",
    "    .config(\"spark.sql.hive.metastore.warehouse.dir\", f\"{base_dir}/00_output/hive/warehouse\" )\\\n",
    "    .enableHiveSupport() \\\n",
    "    .getOrCreate()\n",
    "\n",
    "sc = spark.sparkContext"
   ]
  },
  {
   "cell_type": "code",
   "execution_count": 12,
   "metadata": {},
   "outputs": [],
   "source": [
    "punc: str = string.punctuation + \"\\n\\t0123456789\"\n",
    "stop_words: list = stopwords.words(\"english\") + [\"th\"]"
   ]
  },
  {
   "cell_type": "code",
   "execution_count": 13,
   "metadata": {},
   "outputs": [],
   "source": [
    "def get_df(path):\n",
    "    rdd = sc.textFile(\"file://\" + path)\n",
    "    words = rdd.flatMap(\\\n",
    "        lambda line: line\\\n",
    "            .lower()\n",
    "            .translate(str.maketrans(punc, \" \" * len(punc)))\\\n",
    "            .split())\n",
    "\n",
    "    wc_rdd = words\\\n",
    "        .filter(lambda word: word not in stop_words)\\\n",
    "        .map(lambda word: (word, 1))\\\n",
    "        .reduceByKey(lambda a, b: a + b)\n",
    "\n",
    "    return wc_rdd.toDF([\"words\", \"count\"])"
   ]
  },
  {
   "cell_type": "code",
   "execution_count": 14,
   "metadata": {},
   "outputs": [],
   "source": [
    "bible_wc_df = get_df(bible_path)"
   ]
  },
  {
   "cell_type": "code",
   "execution_count": 15,
   "metadata": {},
   "outputs": [],
   "source": [
    "bible_wc_df = bible_wc_df.withColumnRenamed(\"count\", \"bb_count\")"
   ]
  },
  {
   "cell_type": "code",
   "execution_count": 16,
   "metadata": {},
   "outputs": [],
   "source": [
    "bible_wc_df.createOrReplaceTempView(\"bible\")"
   ]
  },
  {
   "cell_type": "code",
   "execution_count": 17,
   "metadata": {},
   "outputs": [
    {
     "name": "stdout",
     "output_type": "stream",
     "text": [
      "+------+--------+\n",
      "| words|bb_count|\n",
      "+------+--------+\n",
      "| shall|    9838|\n",
      "|  unto|    8997|\n",
      "|  lord|    7964|\n",
      "|  thou|    5474|\n",
      "|   thy|    4600|\n",
      "|   god|    4472|\n",
      "|  said|    3999|\n",
      "|    ye|    3983|\n",
      "|  thee|    3827|\n",
      "|  upon|    2748|\n",
      "|   man|    2735|\n",
      "|israel|    2575|\n",
      "|  king|    2543|\n",
      "|   son|    2392|\n",
      "|  hath|    2264|\n",
      "|people|    2143|\n",
      "|  came|    2093|\n",
      "| house|    2024|\n",
      "|  come|    1971|\n",
      "|   one|    1969|\n",
      "+------+--------+\n",
      "only showing top 20 rows\n",
      "\n"
     ]
    }
   ],
   "source": [
    "spark.sql(\"SELECT * FROM bible ORDER BY bb_count DESC limit 100\").show()"
   ]
  },
  {
   "cell_type": "code",
   "execution_count": 18,
   "metadata": {},
   "outputs": [],
   "source": [
    "ordered_bible = spark\\\n",
    "    .sql(\"\"\"\n",
    "        SELECT words, bb_count, \n",
    "            RANK() OVER (ORDER BY bb_count DESC) rank_no \n",
    "        FROM bible\"\"\")"
   ]
  },
  {
   "cell_type": "code",
   "execution_count": 19,
   "metadata": {},
   "outputs": [],
   "source": [
    "short_bible = ordered_bible\\\n",
    "    .filter(ordered_bible.rank_no < 101)\\\n",
    "    .select(\"words\", \"bb_count\")"
   ]
  },
  {
   "cell_type": "code",
   "execution_count": 20,
   "metadata": {},
   "outputs": [
    {
     "name": "stdout",
     "output_type": "stream",
     "text": [
      "+------+--------+\n",
      "| words|bb_count|\n",
      "+------+--------+\n",
      "| shall|    9838|\n",
      "|  unto|    8997|\n",
      "|  lord|    7964|\n",
      "|  thou|    5474|\n",
      "|   thy|    4600|\n",
      "|   god|    4472|\n",
      "|  said|    3999|\n",
      "|    ye|    3983|\n",
      "|  thee|    3827|\n",
      "|  upon|    2748|\n",
      "|   man|    2735|\n",
      "|israel|    2575|\n",
      "|  king|    2543|\n",
      "|   son|    2392|\n",
      "|  hath|    2264|\n",
      "|people|    2143|\n",
      "|  came|    2093|\n",
      "| house|    2024|\n",
      "|  come|    1971|\n",
      "|   one|    1969|\n",
      "+------+--------+\n",
      "only showing top 20 rows\n",
      "\n"
     ]
    }
   ],
   "source": [
    "short_bible.show()"
   ]
  },
  {
   "cell_type": "code",
   "execution_count": null,
   "metadata": {},
   "outputs": [],
   "source": []
  },
  {
   "cell_type": "code",
   "execution_count": null,
   "metadata": {},
   "outputs": [],
   "source": []
  },
  {
   "cell_type": "code",
   "execution_count": null,
   "metadata": {},
   "outputs": [],
   "source": []
  },
  {
   "cell_type": "code",
   "execution_count": null,
   "metadata": {},
   "outputs": [],
   "source": []
  },
  {
   "cell_type": "code",
   "execution_count": null,
   "metadata": {},
   "outputs": [],
   "source": []
  },
  {
   "cell_type": "code",
   "execution_count": 22,
   "metadata": {},
   "outputs": [],
   "source": [
    "shake_wc_df = get_df(shakes_path)"
   ]
  },
  {
   "cell_type": "code",
   "execution_count": 23,
   "metadata": {},
   "outputs": [],
   "source": [
    "shake_wc_df = shake_wc_df.withColumnRenamed(\"count\", \"sh_count\")"
   ]
  },
  {
   "cell_type": "code",
   "execution_count": 26,
   "metadata": {},
   "outputs": [],
   "source": [
    "short_shake_df = shake_wc_df.orderBy(desc(\"sh_count\")).limit(100)"
   ]
  },
  {
   "cell_type": "code",
   "execution_count": 27,
   "metadata": {},
   "outputs": [
    {
     "data": {
      "text/plain": [
       "100"
      ]
     },
     "execution_count": 27,
     "metadata": {},
     "output_type": "execute_result"
    }
   ],
   "source": [
    "short_shake_df.count()"
   ]
  },
  {
   "cell_type": "code",
   "execution_count": 31,
   "metadata": {},
   "outputs": [],
   "source": [
    "short_inner_df = short_shake_df.join(short_bible, on=\"words\") "
   ]
  },
  {
   "cell_type": "code",
   "execution_count": 34,
   "metadata": {},
   "outputs": [
    {
     "name": "stdout",
     "output_type": "stream",
     "text": [
      "+-----+--------+--------+\n",
      "|words|sh_count|bb_count|\n",
      "+-----+--------+--------+\n",
      "|shall|    3600|    9838|\n",
      "| lord|    3094|    7964|\n",
      "| thou|    5549|    5474|\n",
      "|  thy|    4034|    4600|\n",
      "+-----+--------+--------+\n",
      "only showing top 4 rows\n",
      "\n"
     ]
    }
   ],
   "source": [
    "short_inner_df.show(4)"
   ]
  },
  {
   "cell_type": "code",
   "execution_count": 41,
   "metadata": {},
   "outputs": [],
   "source": [
    "short_outer_df = short_shake_df\\\n",
    "    .join(short_bible, on=\"words\", how=\"outer\")\\\n",
    "    .fillna(0)"
   ]
  },
  {
   "cell_type": "code",
   "execution_count": 42,
   "metadata": {},
   "outputs": [
    {
     "data": {
      "text/plain": [
       "157"
      ]
     },
     "execution_count": 42,
     "metadata": {},
     "output_type": "execute_result"
    }
   ],
   "source": [
    "short_outer_df.count()"
   ]
  },
  {
   "cell_type": "code",
   "execution_count": 43,
   "metadata": {},
   "outputs": [
    {
     "name": "stdout",
     "output_type": "stream",
     "text": [
      "+---------+--------+--------+\n",
      "|    words|sh_count|bb_count|\n",
      "+---------+--------+--------+\n",
      "|according|       0|     797|\n",
      "|     also|       0|    1769|\n",
      "|    among|       0|     916|\n",
      "|      art|     936|       0|\n",
      "|     away|     862|     915|\n",
      "+---------+--------+--------+\n",
      "only showing top 5 rows\n",
      "\n"
     ]
    }
   ],
   "source": [
    "short_outer_df.show(5)"
   ]
  },
  {
   "cell_type": "code",
   "execution_count": 52,
   "metadata": {},
   "outputs": [],
   "source": [
    "wc_df = shake_wc_df.join(bible_wc_df, on=[\"words\"])"
   ]
  },
  {
   "cell_type": "code",
   "execution_count": 53,
   "metadata": {},
   "outputs": [
    {
     "name": "stdout",
     "output_type": "stream",
     "text": [
      "+---------+--------+--------+\n",
      "|    words|sh_count|bb_count|\n",
      "+---------+--------+--------+\n",
      "|arguments|      11|       1|\n",
      "|      art|     936|     494|\n",
      "|    besom|       1|       1|\n",
      "|  blossom|      10|       6|\n",
      "|   brands|       8|       1|\n",
      "+---------+--------+--------+\n",
      "only showing top 5 rows\n",
      "\n"
     ]
    }
   ],
   "source": [
    "wc_df.show(5)"
   ]
  },
  {
   "cell_type": "code",
   "execution_count": 55,
   "metadata": {},
   "outputs": [
    {
     "name": "stdout",
     "output_type": "stream",
     "text": [
      "+-----+--------+--------+\n",
      "|words|sh_count|bb_count|\n",
      "+-----+--------+--------+\n",
      "| thou|    5549|    5474|\n",
      "|  thy|    4034|    4600|\n",
      "|shall|    3600|    9838|\n",
      "| thee|    3181|    3827|\n",
      "| lord|    3094|    7964|\n",
      "+-----+--------+--------+\n",
      "only showing top 5 rows\n",
      "\n"
     ]
    }
   ],
   "source": [
    "wc_df.orderBy(desc(\"sh_count\")).show(5)"
   ]
  },
  {
   "cell_type": "code",
   "execution_count": null,
   "metadata": {},
   "outputs": [],
   "source": []
  },
  {
   "cell_type": "code",
   "execution_count": 47,
   "metadata": {},
   "outputs": [
    {
     "data": {
      "text/plain": [
       "DataFrame[]"
      ]
     },
     "execution_count": 47,
     "metadata": {},
     "output_type": "execute_result"
    }
   ],
   "source": [
    "spark.sql(\"\"\"\n",
    "    CREATE TABLE IF NOT EXISTS complete (\n",
    "        words string,\n",
    "        sh_count long,\n",
    "        bb_count long\n",
    "    )\n",
    "\"\"\")"
   ]
  },
  {
   "cell_type": "code",
   "execution_count": 44,
   "metadata": {},
   "outputs": [
    {
     "name": "stdout",
     "output_type": "stream",
     "text": [
      "root\n",
      " |-- words: string (nullable = true)\n",
      " |-- sh_count: long (nullable = true)\n",
      " |-- bb_count: long (nullable = true)\n",
      "\n"
     ]
    }
   ],
   "source": [
    "short_outer_df.printSchema()"
   ]
  },
  {
   "cell_type": "code",
   "execution_count": 61,
   "metadata": {},
   "outputs": [],
   "source": [
    "short_outer_df.write.mode(\"append\").insertInto(\"complete\")"
   ]
  },
  {
   "cell_type": "code",
   "execution_count": 60,
   "metadata": {},
   "outputs": [
    {
     "name": "stdout",
     "output_type": "stream",
     "text": [
      "+---------+--------+--------+\n",
      "|    words|sh_count|bb_count|\n",
      "+---------+--------+--------+\n",
      "|according|       0|     797|\n",
      "|     also|       0|    1769|\n",
      "|    among|       0|     916|\n",
      "|      art|     936|       0|\n",
      "|     away|     862|     915|\n",
      "|       ay|     769|       0|\n",
      "|   behold|       0|    1326|\n",
      "|    blood|     667|       0|\n",
      "| brethren|       0|     564|\n",
      "|    bring|       0|     725|\n",
      "+---------+--------+--------+\n",
      "\n"
     ]
    }
   ],
   "source": [
    "spark.sql(\"select * from complete LIMIT 10\").show() # write to hive table"
   ]
  },
  {
   "cell_type": "code",
   "execution_count": null,
   "metadata": {},
   "outputs": [],
   "source": []
  },
  {
   "cell_type": "code",
   "execution_count": null,
   "metadata": {},
   "outputs": [],
   "source": []
  }
 ],
 "metadata": {
  "kernelspec": {
   "display_name": "Python 3",
   "language": "python",
   "name": "python3"
  },
  "language_info": {
   "codemirror_mode": {
    "name": "ipython",
    "version": 3
   },
   "file_extension": ".py",
   "mimetype": "text/x-python",
   "name": "python",
   "nbconvert_exporter": "python",
   "pygments_lexer": "ipython3",
   "version": "3.7.3"
  }
 },
 "nbformat": 4,
 "nbformat_minor": 2
}
