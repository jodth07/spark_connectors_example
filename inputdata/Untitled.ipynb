{
 "cells": [
  {
   "cell_type": "code",
   "execution_count": 1,
   "metadata": {},
   "outputs": [],
   "source": [
    "li = [\"programming\" \"simply\",\"rocks\"] # -> [\"rocks\", \"simply\", \"programming\"]"
   ]
  },
  {
   "cell_type": "code",
   "execution_count": 2,
   "metadata": {},
   "outputs": [],
   "source": [
    "def sorted_list(lst):\n",
    "  result = []\n",
    "  d = {}\n",
    "  for w in lst:\n",
    "    d[len(w)] =\td.get(len(w),[])+[w] \t\n",
    "    print(d.get(len(w)),[])\n",
    "  keys = sorted(list(d.keys()))\t\n",
    "  \n",
    "  for k in keys:\n",
    "    for j in d[k]:\n",
    "      result.append(j)\t\n",
    "  return result\t\t\n",
    "\n",
    "lst1 = [\"programming\", \"simply\", \"eat\",\"rocks\"]"
   ]
  },
  {
   "cell_type": "code",
   "execution_count": 3,
   "metadata": {},
   "outputs": [],
   "source": [
    "lst1 = [\"programming\", \"simply\", \"eat\",\"rocks\"]"
   ]
  },
  {
   "cell_type": "code",
   "execution_count": 4,
   "metadata": {},
   "outputs": [
    {
     "name": "stdout",
     "output_type": "stream",
     "text": [
      "['programming'] []\n",
      "['simply'] []\n",
      "['eat'] []\n",
      "['rocks'] []\n"
     ]
    },
    {
     "data": {
      "text/plain": [
       "['eat', 'rocks', 'simply', 'programming']"
      ]
     },
     "execution_count": 4,
     "metadata": {},
     "output_type": "execute_result"
    }
   ],
   "source": [
    "sorted_list(lst1)"
   ]
  },
  {
   "cell_type": "code",
   "execution_count": 18,
   "metadata": {},
   "outputs": [
    {
     "name": "stdout",
     "output_type": "stream",
     "text": [
      "['programming'] []\n",
      "['simply'] []\n",
      "['eat'] []\n",
      "['rocks'] []\n",
      "['eat', 'boy'] []\n",
      "['some new thing'] []\n",
      "['9'] []\n"
     ]
    },
    {
     "data": {
      "text/plain": [
       "['9', 'eat', 'boy', 'rocks', 'simply', 'programming', 'some new thing']"
      ]
     },
     "execution_count": 18,
     "metadata": {},
     "output_type": "execute_result"
    }
   ],
   "source": [
    "def sort_list(x):\n",
    "    sorted_list =[]\n",
    "    for index, word in enumerate(x):\n",
    "        store = word \n",
    "    \n",
    "def sorted_list(lst):\n",
    "    result = []\n",
    "    d = {}\n",
    "    for w in lst:\n",
    "        d[len(w)] =\td.get(len(w),[])+[w] \n",
    "        print(d.get(len(w)),[])\n",
    "    \n",
    "    keys = sorted(list(d.keys()))\n",
    "\n",
    "    for k in keys:\n",
    "        for j in d[k]:\n",
    "            result.append(j)\n",
    "            \n",
    "    return result\n",
    "\n",
    "lst1 = [\"programming\", \"simply\", \"eat\",\"rocks\", \"boy\", \"some new thing\", \"9\"]\n",
    "\n",
    "sorted_list(lst1)\n",
    "\n",
    "\n",
    "# words = [\"programming\", \"simply\", \"rocks\"]"
   ]
  },
  {
   "cell_type": "code",
   "execution_count": null,
   "metadata": {},
   "outputs": [],
   "source": []
  }
 ],
 "metadata": {
  "kernelspec": {
   "display_name": "Python 3",
   "language": "python",
   "name": "python3"
  },
  "language_info": {
   "codemirror_mode": {
    "name": "ipython",
    "version": 3
   },
   "file_extension": ".py",
   "mimetype": "text/x-python",
   "name": "python",
   "nbconvert_exporter": "python",
   "pygments_lexer": "ipython3",
   "version": "3.6.8"
  }
 },
 "nbformat": 4,
 "nbformat_minor": 2
}
