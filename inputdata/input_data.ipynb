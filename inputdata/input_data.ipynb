{
 "cells": [
  {
   "cell_type": "code",
   "execution_count": 1,
   "metadata": {},
   "outputs": [],
   "source": [
    "import requests\n",
    "import os\n",
    "from io import StringIO\n",
    "import json"
   ]
  },
  {
   "cell_type": "code",
   "execution_count": 8,
   "metadata": {},
   "outputs": [],
   "source": [
    "MY_TOKEN = os.environ.get(\"MY_TOKEN\", _mytoken)\n",
    "BASE_SITE = \"https://trefle.io/api/\""
   ]
  },
  {
   "cell_type": "code",
   "execution_count": 36,
   "metadata": {},
   "outputs": [],
   "source": [
    "def get_token() -> str:\n",
    "    \"\"\"\n",
    "    using personal provided token to get access token\n",
    "    :return: string token to be used in queries\n",
    "    \"\"\"\n",
    "    response = requests.post(f\"{BASE_SITE}auth/claim?token={MY_TOKEN}&origin=YOUR-WEBSITE-URL\")\n",
    "    return response.json()[\"token\"]"
   ]
  },
  {
   "cell_type": "code",
   "execution_count": 37,
   "metadata": {},
   "outputs": [],
   "source": [
    "def get_data(end_point: str) -> list:\n",
    "    \"\"\"\n",
    "    using the different endpoints, create links and pulls data from api\n",
    "    :param end_point: hierarchical trees of type strings\n",
    "    :return: json object\n",
    "    \"\"\"\n",
    "    try:\n",
    "        return requests.get(f\"{BASE_SITE}{end_point}/?token={token}\").json()\n",
    "    except:\n",
    "        print(\"the request did not succeed\")\n",
    "        return exit(1)"
   ]
  },
  {
   "cell_type": "code",
   "execution_count": 38,
   "metadata": {},
   "outputs": [],
   "source": [
    "def get_str_data(data_li: list) -> StringIO:\n",
    "    \"\"\"\n",
    "    takes in the json data in list, to be stored in file.\n",
    "    :param data_li:\n",
    "    :return:\n",
    "    \"\"\"\n",
    "    data_io = StringIO()\n",
    "    for record in data_li:\n",
    "        data_io.write(f\"{record},\\n\")\n",
    "    return data_io"
   ]
  },
  {
   "cell_type": "code",
   "execution_count": 39,
   "metadata": {},
   "outputs": [],
   "source": [
    "data = get_data(\"kingdoms\")\n",
    "# requests.get(f\"{BASE_SITE}kingdoms/?token={token}\")"
   ]
  },
  {
   "cell_type": "code",
   "execution_count": 16,
   "metadata": {},
   "outputs": [],
   "source": [
    "def process_data(endpoint_name):\n",
    "    \"\"\"\n",
    "\n",
    "    :param endpoint_name:\n",
    "    :return:\n",
    "    \"\"\"\n",
    "    data: list = get_data(endpoint_name)\n",
    "#     data_io: StringIO = get_str_data(data)\n",
    "    with open(f\"{endpoint_name}.json\", \"w\") as writer:\n",
    "        writer.write(json.dumps(data))\n",
    "    print(f\"Data written for {endpoint_name}\")"
   ]
  },
  {
   "cell_type": "code",
   "execution_count": 43,
   "metadata": {},
   "outputs": [
    {
     "name": "stdout",
     "output_type": "stream",
     "text": [
      "Data written for kingdoms\n",
      "Data written for subkingdoms\n",
      "Data written for divisions\n",
      "Data written for families\n",
      "Data written for genuses\n",
      "Data written for plants\n"
     ]
    }
   ],
   "source": [
    "token = get_token()\n",
    "prs = [\"kingdoms\", \"subkingdoms\", \"divisions\", \"families\", \"genuses\", \"plants\"]\n",
    "for pr in prs:\n",
    "    process_data(pr)"
   ]
  },
  {
   "cell_type": "code",
   "execution_count": 42,
   "metadata": {},
   "outputs": [
    {
     "name": "stdout",
     "output_type": "stream",
     "text": [
      "Data written for kingdoms\n"
     ]
    }
   ],
   "source": [
    "process_data(\"kingdoms\")"
   ]
  },
  {
   "cell_type": "code",
   "execution_count": 20,
   "metadata": {},
   "outputs": [
    {
     "name": "stdout",
     "output_type": "stream",
     "text": [
      "/Users/speedy/Desktop/spark_connect_examples/inputdata\n"
     ]
    }
   ],
   "source": [
    "cd inputdata"
   ]
  },
  {
   "cell_type": "code",
   "execution_count": 40,
   "metadata": {},
   "outputs": [
    {
     "data": {
      "text/plain": [
       "[{'subkingdoms': [{'slug': 'tracheobionta',\n",
       "    'name': 'Tracheobionta',\n",
       "    'link': 'http://trefle.io/api/subkingdoms/1',\n",
       "    'id': 1}],\n",
       "  'slug': None,\n",
       "  'name': 'Plantae',\n",
       "  'id': 1}]"
      ]
     },
     "execution_count": 40,
     "metadata": {},
     "output_type": "execute_result"
    }
   ],
   "source": [
    "data"
   ]
  },
  {
   "cell_type": "code",
   "execution_count": null,
   "metadata": {},
   "outputs": [],
   "source": []
  }
 ],
 "metadata": {
  "kernelspec": {
   "display_name": "Python 3",
   "language": "python",
   "name": "python3"
  },
  "language_info": {
   "codemirror_mode": {
    "name": "ipython",
    "version": 3
   },
   "file_extension": ".py",
   "mimetype": "text/x-python",
   "name": "python",
   "nbconvert_exporter": "python",
   "pygments_lexer": "ipython3",
   "version": "3.7.3"
  }
 },
 "nbformat": 4,
 "nbformat_minor": 2
}
