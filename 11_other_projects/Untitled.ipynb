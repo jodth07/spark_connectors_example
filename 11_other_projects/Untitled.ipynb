{
 "cells": [
  {
   "cell_type": "code",
   "execution_count": 9,
   "metadata": {},
   "outputs": [],
   "source": [
    "def reverseCheck(number):\n",
    "    print(\"original number\", number)\n",
    "#     originalNum = number\n",
    "    reverseNum = 0\n",
    "    while (number > 0):\n",
    "        print(\"Number\", )\n",
    "        reminder = number % 10\n",
    "        print(reminder)\n",
    "        reverseNum = (reverseNum * 10) + reminder\n",
    "        print(reverseNum)\n",
    "        number = number // 10\n",
    "        print(number)\n",
    "#     if (originalNum == reverseNum):\n",
    "#         return True\n",
    "#     else:\n",
    "#         return False"
   ]
  },
  {
   "cell_type": "code",
   "execution_count": 10,
   "metadata": {},
   "outputs": [
    {
     "name": "stdout",
     "output_type": "stream",
     "text": [
      "original number 121\n",
      "1\n",
      "1\n",
      "12\n",
      "2\n",
      "12\n",
      "1\n",
      "1\n",
      "121\n",
      "0\n",
      "The original and reverse number is the same: None\n"
     ]
    }
   ],
   "source": [
    "print(\"The original and reverse number is the same:\", reverseCheck(121))"
   ]
  },
  {
   "cell_type": "code",
   "execution_count": 6,
   "metadata": {},
   "outputs": [
    {
     "data": {
      "text/plain": [
       "20"
      ]
     },
     "execution_count": 6,
     "metadata": {},
     "output_type": "execute_result"
    }
   ],
   "source": [
    "2 * 10"
   ]
  },
  {
   "cell_type": "code",
   "execution_count": null,
   "metadata": {},
   "outputs": [],
   "source": []
  }
 ],
 "metadata": {
  "kernelspec": {
   "display_name": "Python 3",
   "language": "python",
   "name": "python3"
  },
  "language_info": {
   "codemirror_mode": {
    "name": "ipython",
    "version": 3
   },
   "file_extension": ".py",
   "mimetype": "text/x-python",
   "name": "python",
   "nbconvert_exporter": "python",
   "pygments_lexer": "ipython3",
   "version": "3.7.3"
  }
 },
 "nbformat": 4,
 "nbformat_minor": 2
}
