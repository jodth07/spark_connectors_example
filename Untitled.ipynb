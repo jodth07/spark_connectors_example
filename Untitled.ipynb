{
 "cells": [
  {
   "cell_type": "code",
   "execution_count": 1,
   "metadata": {},
   "outputs": [],
   "source": [
    "import requests"
   ]
  },
  {
   "cell_type": "code",
   "execution_count": 3,
   "metadata": {},
   "outputs": [],
   "source": [
    "response = requests.get(\"https://trefle.io/api/plants\")"
   ]
  },
  {
   "cell_type": "code",
   "execution_count": 49,
   "metadata": {},
   "outputs": [],
   "source": [
    "MY_TOKEN=\"Y0gyN08yRVFSQjZZb09NNnNjREZFZz09\"\n",
    "BASE_SITE=\"https://trefle.io/api/\""
   ]
  },
  {
   "cell_type": "code",
   "execution_count": 53,
   "metadata": {},
   "outputs": [],
   "source": [
    "def get_token():\n",
    "    MY_TOKEN=\"Y0gyN08yRVFSQjZZb09NNnNjREZFZz09\"\n",
    "    BASE_SITE=\"https://trefle.io/api/\"\n",
    "    response = requests.post(f\"{BASE_SITE}auth/claim?token={MY_TOKEN}&origin=YOUR-WEBSITE-URL\")\n",
    "    return response.json()[\"token\"]"
   ]
  },
  {
   "cell_type": "code",
   "execution_count": 54,
   "metadata": {},
   "outputs": [],
   "source": [
    "token = get_token()"
   ]
  },
  {
   "cell_type": "code",
   "execution_count": 56,
   "metadata": {},
   "outputs": [],
   "source": [
    "# token"
   ]
  },
  {
   "cell_type": "code",
   "execution_count": null,
   "metadata": {},
   "outputs": [],
   "source": []
  },
  {
   "cell_type": "code",
   "execution_count": 79,
   "metadata": {},
   "outputs": [],
   "source": [
    "data = requests.get(f\"{BASE_SITE}families/?token={token}\")"
   ]
  },
  {
   "cell_type": "code",
   "execution_count": 80,
   "metadata": {},
   "outputs": [
    {
     "data": {
      "text/plain": [
       "<Response [200]>"
      ]
     },
     "execution_count": 80,
     "metadata": {},
     "output_type": "execute_result"
    }
   ],
   "source": [
    "data"
   ]
  },
  {
   "cell_type": "code",
   "execution_count": 81,
   "metadata": {},
   "outputs": [
    {
     "data": {
      "text/plain": [
       "30"
      ]
     },
     "execution_count": 81,
     "metadata": {},
     "output_type": "execute_result"
    }
   ],
   "source": [
    "len(data.json())"
   ]
  },
  {
   "cell_type": "code",
   "execution_count": 64,
   "metadata": {},
   "outputs": [
    {
     "data": {
      "text/plain": [
       "{'subkingdom': {'slug': 'tracheobionta',\n",
       "  'name': 'Tracheobionta',\n",
       "  'link': 'http://trefle.io/api/subkingdoms/1',\n",
       "  'id': 1},\n",
       " 'slug': 'magnoliophyta',\n",
       " 'name': 'Magnoliophyta',\n",
       " 'kingdom': {'slug': None,\n",
       "  'name': 'Plantae',\n",
       "  'link': 'http://trefle.io/api/kingdoms/1',\n",
       "  'id': 1},\n",
       " 'id': 1,\n",
       " 'division_classes': [{'slug': 'magnoliopsida',\n",
       "   'name': 'Magnoliopsida',\n",
       "   'link': 'http://trefle.io/api/division_classes/1',\n",
       "   'id': 1},\n",
       "  {'slug': 'liliopsida',\n",
       "   'name': 'Liliopsida',\n",
       "   'link': 'http://trefle.io/api/division_classes/4',\n",
       "   'id': 4}]}"
      ]
     },
     "execution_count": 64,
     "metadata": {},
     "output_type": "execute_result"
    }
   ],
   "source": [
    "data.json()[0]"
   ]
  },
  {
   "cell_type": "code",
   "execution_count": null,
   "metadata": {},
   "outputs": [],
   "source": []
  }
 ],
 "metadata": {
  "kernelspec": {
   "display_name": "Python 3",
   "language": "python",
   "name": "python3"
  },
  "language_info": {
   "codemirror_mode": {
    "name": "ipython",
    "version": 3
   },
   "file_extension": ".py",
   "mimetype": "text/x-python",
   "name": "python",
   "nbconvert_exporter": "python",
   "pygments_lexer": "ipython3",
   "version": "3.7.3"
  }
 },
 "nbformat": 4,
 "nbformat_minor": 2
}
