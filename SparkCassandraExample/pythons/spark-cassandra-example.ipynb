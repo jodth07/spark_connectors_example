{
 "cells": [
  {
   "cell_type": "code",
   "execution_count": 169,
   "metadata": {},
   "outputs": [],
   "source": [
    "# !pip install cassandra-driver"
   ]
  },
  {
   "cell_type": "code",
   "execution_count": 172,
   "metadata": {},
   "outputs": [],
   "source": [
    "from cassandra.cluster import Cluster\n",
    "cluster = Cluster(['127.0.0.1'])\n",
    "session = cluster.connect()"
   ]
  },
  {
   "cell_type": "code",
   "execution_count": 178,
   "metadata": {},
   "outputs": [
    {
     "data": {
      "text/plain": [
       "<cassandra.cluster.ResultSet at 0x121dcfc50>"
      ]
     },
     "execution_count": 178,
     "metadata": {},
     "output_type": "execute_result"
    }
   ],
   "source": [
    "session.execute(\"use dev\")\n",
    "session.execute(\"CREATE TABLE users (id int PRIMARY KEY, address text)\")"
   ]
  },
  {
   "cell_type": "code",
   "execution_count": 32,
   "metadata": {},
   "outputs": [],
   "source": [
    "from pyspark.sql.functions import *\n",
    "from pyspark.sql.types import *\n",
    "from pyspark.sql import Window\n"
   ]
  },
  {
   "cell_type": "code",
   "execution_count": 3,
   "metadata": {},
   "outputs": [],
   "source": [
    "os.environ[\"PYSPARK_SUBMIT_ARGS\"] = \"--packages com.datastax.spark:spark-cassandra-connector_2.11:2.5.0 --conf spark.cassandra.connection.host=127.0.0.1 pyspark-shell\""
   ]
  },
  {
   "cell_type": "code",
   "execution_count": 18,
   "metadata": {},
   "outputs": [],
   "source": [
    "spark : SparkSession = SparkSession.builder\\\n",
    "    .master( \"local[*]\" ) \\\n",
    "    .appName( \"Cassandra-spark-example\" ) \\\n",
    "    .config(\"spark.cassandra.connection.host\", \"127.0.0.1\") \\\n",
    "    .getOrCreate()"
   ]
  },
  {
   "cell_type": "code",
   "execution_count": 9,
   "metadata": {},
   "outputs": [],
   "source": [
    "data = spark\\\n",
    "    .read\\\n",
    "    .options(header='true', inferSchema='true')\\\n",
    "    .csv(\"file:///Users/yashiro/Desktop/spark_connect_examples/inputdata/locations.csv\")\\\n",
    "    .withColumn(\"id\", monotonically_increasing_id().astype(\"int\"))"
   ]
  },
  {
   "cell_type": "code",
   "execution_count": 10,
   "metadata": {},
   "outputs": [
    {
     "data": {
      "text/plain": [
       "['countriesAndTerritories',\n",
       " 'location',\n",
       " 'continent',\n",
       " 'population_year',\n",
       " 'population',\n",
       " 'id']"
      ]
     },
     "execution_count": 10,
     "metadata": {},
     "output_type": "execute_result"
    }
   ],
   "source": [
    "data.columns"
   ]
  },
  {
   "cell_type": "code",
   "execution_count": 149,
   "metadata": {},
   "outputs": [],
   "source": [
    "# data.coalesce(1).write.options(header='true').csv(\"file:///Users/yashiro/Desktop/spark_connect_examples/inputdata/countries.csv\")"
   ]
  },
  {
   "cell_type": "code",
   "execution_count": 12,
   "metadata": {},
   "outputs": [],
   "source": [
    "# ls /Users/yashiro/Desktop/spark_connect_examples/inputdata/countries.csv"
   ]
  },
  {
   "cell_type": "code",
   "execution_count": 13,
   "metadata": {},
   "outputs": [],
   "source": [
    "# \"\"\"create keyspace dev with replication = {'class':'SimpleStrategy','replication_factor':1};\"\"\""
   ]
  },
  {
   "cell_type": "code",
   "execution_count": 14,
   "metadata": {},
   "outputs": [],
   "source": [
    "# \"\"\"use dev\"\"\""
   ]
  },
  {
   "cell_type": "code",
   "execution_count": 15,
   "metadata": {},
   "outputs": [],
   "source": [
    "# \"\"\"\n",
    "# CREATE TABLE populations(\n",
    "#    id int PRIMARY KEY,\n",
    "#    location text,\n",
    "#    continent text,\n",
    "#    population_year int,\n",
    "#    population int\n",
    "#    );\n",
    "# \"\"\""
   ]
  },
  {
   "cell_type": "code",
   "execution_count": 20,
   "metadata": {},
   "outputs": [],
   "source": [
    "cols = ['id', 'location', 'continent', 'population_year', 'population'] #'countriesAndTerritories',\n",
    "data.select(*cols).write\\\n",
    "    .format(\"org.apache.spark.sql.cassandra\")\\\n",
    "    .mode('append')\\\n",
    "    .options(table=\"populations\", keyspace=\"dev\")\\\n",
    "    .save()"
   ]
  },
  {
   "cell_type": "code",
   "execution_count": 22,
   "metadata": {},
   "outputs": [],
   "source": [
    "cass_data = spark.read\\\n",
    "    .format(\"org.apache.spark.sql.cassandra\")\\\n",
    "    .options(table=\"populations\", keyspace=\"dev\")\\\n",
    "    .load()"
   ]
  },
  {
   "cell_type": "code",
   "execution_count": 23,
   "metadata": {},
   "outputs": [
    {
     "name": "stdout",
     "output_type": "stream",
     "text": [
      "root\n",
      " |-- id: integer (nullable = false)\n",
      " |-- continent: string (nullable = true)\n",
      " |-- location: string (nullable = true)\n",
      " |-- population: integer (nullable = true)\n",
      " |-- population_year: integer (nullable = true)\n",
      "\n"
     ]
    }
   ],
   "source": [
    "cass_data.printSchema()"
   ]
  },
  {
   "cell_type": "code",
   "execution_count": 28,
   "metadata": {},
   "outputs": [
    {
     "name": "stdout",
     "output_type": "stream",
     "text": [
      "+---+-------------+--------------+----------+---------------+\n",
      "| id|    continent|      location|population|population_year|\n",
      "+---+-------------+--------------+----------+---------------+\n",
      "|123|       Africa|    Mauritania|   4649660|           2020|\n",
      "| 54|       Europe|       Denmark|   5792203|           2020|\n",
      "| 75|       Europe|       Germany|  83783945|           2020|\n",
      "|189|       Africa|          Togo|   8278737|           2020|\n",
      "| 15|         Asia|    Bangladesh| 164689383|           2020|\n",
      "| 98|         Asia|        Israel|   8655541|           2020|\n",
      "| 49|North America|          Cuba|  11326616|           2020|\n",
      "| 10|      Oceania|     Australia|  25499881|           2020|\n",
      "|131|       Africa|       Morocco|  36910558|           2020|\n",
      "| 36|       Africa|    Cape Verde|    555988|           2020|\n",
      "| 40|       Africa|          Chad|  16425859|           2020|\n",
      "|198|       Africa|      Tanzania|  59734213|           2020|\n",
      "| 46|North America|    Costa Rica|   5094114|           2020|\n",
      "| 43|South America|      Colombia|  50882884|           2020|\n",
      "|130|North America|    Montserrat|      4999|           2020|\n",
      "|  8|         Asia|       Armenia|   2963234|           2020|\n",
      "| 52|       Europe|Czech Republic|  10708982|           2020|\n",
      "|  0|         Asia|   Afghanistan|  38928341|           2020|\n",
      "|150|South America|      Paraguay|   7132530|           2020|\n",
      "| 85|       Africa| Guinea-Bissau|   1967998|           2020|\n",
      "+---+-------------+--------------+----------+---------------+\n",
      "only showing top 20 rows\n",
      "\n"
     ]
    }
   ],
   "source": [
    "cass_data.show()"
   ]
  },
  {
   "cell_type": "code",
   "execution_count": 30,
   "metadata": {},
   "outputs": [
    {
     "name": "stdout",
     "output_type": "stream",
     "text": [
      "+-------------+-----+\n",
      "|    continent|count|\n",
      "+-------------+-----+\n",
      "|       Europe|   51|\n",
      "|       Africa|   54|\n",
      "|         null|    1|\n",
      "|North America|   36|\n",
      "|South America|   13|\n",
      "|      Oceania|    8|\n",
      "|         Asia|   46|\n",
      "+-------------+-----+\n",
      "\n"
     ]
    }
   ],
   "source": [
    "cass_data.groupBy(\"continent\").count().show()"
   ]
  },
  {
   "cell_type": "code",
   "execution_count": 50,
   "metadata": {},
   "outputs": [],
   "source": [
    "window = Window.partitionBy(\"continent\")"
   ]
  },
  {
   "cell_type": "code",
   "execution_count": 55,
   "metadata": {},
   "outputs": [],
   "source": [
    "max_df = cass_data.withColumn(\"max_population\", max(\"population\").over(window))\\\n",
    "  .filter(col(\"max_population\") == col(\"population\")).orderBy(\"continent\")"
   ]
  },
  {
   "cell_type": "code",
   "execution_count": 56,
   "metadata": {},
   "outputs": [
    {
     "name": "stdout",
     "output_type": "stream",
     "text": [
      "+---+-------------+-------------+----------+---------------+--------------+\n",
      "| id|    continent|     location|population|population_year|max_population|\n",
      "+---+-------------+-------------+----------+---------------+--------------+\n",
      "|141|       Africa|      Nigeria| 206139587|           2020|     206139587|\n",
      "| 42|         Asia|        China|1439323774|           2020|    1439323774|\n",
      "|158|       Europe|       Russia| 145934460|           2020|     145934460|\n",
      "|200|North America|United States| 331002647|           2020|     331002647|\n",
      "| 10|      Oceania|    Australia|  25499881|           2020|      25499881|\n",
      "| 27|South America|       Brazil| 212559409|           2020|     212559409|\n",
      "+---+-------------+-------------+----------+---------------+--------------+\n",
      "\n"
     ]
    }
   ],
   "source": [
    "max_df.show()"
   ]
  },
  {
   "cell_type": "code",
   "execution_count": null,
   "metadata": {},
   "outputs": [],
   "source": []
  }
 ],
 "metadata": {
  "kernelspec": {
   "display_name": "Python 3",
   "language": "python",
   "name": "python3"
  },
  "language_info": {
   "codemirror_mode": {
    "name": "ipython",
    "version": 3
   },
   "file_extension": ".py",
   "mimetype": "text/x-python",
   "name": "python",
   "nbconvert_exporter": "python",
   "pygments_lexer": "ipython3",
   "version": "3.7.4"
  }
 },
 "nbformat": 4,
 "nbformat_minor": 2
}
