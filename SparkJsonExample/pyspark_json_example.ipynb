{
 "cells": [
  {
   "cell_type": "code",
   "execution_count": 17,
   "metadata": {},
   "outputs": [],
   "source": [
    "from pyspark.sql import SparkSession\n",
    "from pyspark.sql import DataFrame\n",
    "import os"
   ]
  },
  {
   "cell_type": "code",
   "execution_count": 80,
   "metadata": {},
   "outputs": [],
   "source": [
    "class ExampleConstants:\n",
    "    SUBKINGDOM : str = \"subkingdoms\"\n",
    "    KINGDOM : str = \"kingdoms\"\n",
    "    DIVISION : str = \"divisions\"\n",
    "    FAMILY : str = \"families\"\n",
    "    GENUS : str = \"genuses\"\n",
    "    PLANT : str = \"plants\"\n",
    "    "
   ]
  },
  {
   "cell_type": "code",
   "execution_count": 113,
   "metadata": {},
   "outputs": [],
   "source": [
    "class ExampleSupport():\n",
    "    def __init__(self, sparkSession : SparkSession, base_path : str = None):\n",
    "        self.spark = sparkSession\n",
    "        self.BASEPATH : str = base_path if base_path else f\"file://{os.chdir('../')}\"\n",
    "\n",
    "    def get_input_path(self, name : str) -> str :\n",
    "        return f\"{self.BASEPATH}/inputdata/{name}.json\"\n",
    "    \n",
    "\n",
    "    def get_output_path(self, name : str) -> str :\n",
    "        return f\"{self.BASEPATH}/outputdata/{name}.json\"\n",
    "    \n",
    "\n",
    "    def output_to_json(self, df: DataFrame, endpoint : str) -> bool:\n",
    "        df.coalesce(1).write.json(self.get_output_path(endpoint))\n",
    "        return True"
   ]
  },
  {
   "cell_type": "code",
   "execution_count": 10,
   "metadata": {},
   "outputs": [],
   "source": [
    "from json_example_module import *\n",
    "from json_example_module.supports import ExampleSupport"
   ]
  },
  {
   "cell_type": "code",
   "execution_count": 11,
   "metadata": {},
   "outputs": [],
   "source": [
    "support : ExampleSupport = ExampleSupport(spark)"
   ]
  },
  {
   "cell_type": "code",
   "execution_count": 16,
   "metadata": {},
   "outputs": [],
   "source": [
    "subData  = spark.read.json(support.get_input_path(SUBKINGDOM))"
   ]
  },
  {
   "cell_type": "code",
   "execution_count": 17,
   "metadata": {},
   "outputs": [
    {
     "data": {
      "text/plain": [
       "pyspark.sql.dataframe.DataFrame"
      ]
     },
     "execution_count": 17,
     "metadata": {},
     "output_type": "execute_result"
    }
   ],
   "source": [
    "type(subData)"
   ]
  },
  {
   "cell_type": "code",
   "execution_count": 1,
   "metadata": {},
   "outputs": [],
   "source": [
    "support.output_to_json(subData, support.get_output_path(constants.SUBKINGDOM))"
   ]
  },
  {
   "cell_type": "code",
   "execution_count": 18,
   "metadata": {},
   "outputs": [
    {
     "name": "stdout",
     "output_type": "stream",
     "text": [
      "+------------+\n",
      "|databaseName|\n",
      "+------------+\n",
      "|     default|\n",
      "+------------+\n",
      "\n"
     ]
    }
   ],
   "source": [
    "spark.sql(\"show databases\").show()"
   ]
  }
 ],
 "metadata": {
  "kernelspec": {
   "display_name": "Python 3",
   "language": "python",
   "name": "python3"
  },
  "language_info": {
   "codemirror_mode": {
    "name": "ipython",
    "version": 3
   },
   "file_extension": ".py",
   "mimetype": "text/x-python",
   "name": "python",
   "nbconvert_exporter": "python",
   "pygments_lexer": "ipython3",
   "version": "3.7.4"
  }
 },
 "nbformat": 4,
 "nbformat_minor": 4
}
